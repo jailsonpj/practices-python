{
 "cells": [
  {
   "cell_type": "markdown",
   "metadata": {},
   "source": [
    "# Separation of Concerns"
   ]
  },
  {
   "cell_type": "markdown",
   "metadata": {},
   "source": [
    "Uma pedra angular do código claro é a divisão de seus vários comportamentos em pedaços pequenos e gerenciáveis. O código claro exige que você mantenha menos conhecimento em sua mente a qualquer momento, simplificando o código. Segmentos curtos de código com intenção clara são um grande passo nessa direção, mas bits de código não devem ser divididos ao longo de limites arbitrários. Separá-los por preocupação é uma abordagem eficaz."
   ]
  },
  {
   "cell_type": "markdown",
   "metadata": {},
   "source": [
    "## Namespace\n",
    "\n",
    "Como muitas linguagens de programção, o Python isola o código através do conceito de *namespace*. É basicamente um sistema para certificar-se que todos os nomes em um programa são únicos e podem ser usados sem qualquer conflito. O python implementa namespace com dicionários. Há um mapeamento de **nome-para-objeto**, com os nomes como chaves e os objetos como valores. Vários namespaces podem usar o mesmo nome e mapeá-los para um objeto diferente. Alguns exemplos de namespace:\n",
    "\n",
    "- Namespace local: Este namespace inclui nomes locais dentro de uma função. Este namespace é criado quando uma função é chamada, e só dura até que a função retorne.\n",
    "\n",
    "- Namespace global: Este namespace inclui nomes de vários módulos importados que você está usando em um projeto. Ele é criado quando o módulo está incluído no projeto, e dura até o script terminar.\n",
    "\n",
    "- Namespace interno: Este namespace inclui funções internas e nomes de exceções internas."
   ]
  },
  {
   "cell_type": "markdown",
   "metadata": {},
   "source": [
    "![](types_namespace-1.png)"
   ]
  },
  {
   "cell_type": "markdown",
   "metadata": {},
   "source": [
    "#### Exemplo de namespace global"
   ]
  },
  {
   "cell_type": "code",
   "execution_count": null,
   "metadata": {},
   "outputs": [],
   "source": [
    "TAX_RATES_BY_STATES = {\n",
    "    'MI': 1.06,\n",
    "    #...\n",
    "}\n",
    "\n",
    "def add_sales_tax(total, state):\n",
    "    return total * TAX_RATES_BY_STATES[state]"
   ]
  },
  {
   "cell_type": "markdown",
   "metadata": {},
   "source": [
    "Funções e classes em um módulo também possuem um espaço para *namespace local* que somente eles podem acessar:"
   ]
  },
  {
   "cell_type": "code",
   "execution_count": null,
   "metadata": {},
   "outputs": [],
   "source": [
    "TAX_RATES_BY_STATES = {\n",
    "    'MI': 1.06,\n",
    "    #...\n",
    "}\n",
    "\n",
    "def add_sales_tax(total, state):\n",
    "    tax_rate = TAX_RATES_BY_STATES[state]\n",
    "    return total * tax_rate"
   ]
  },
  {
   "cell_type": "markdown",
   "metadata": {},
   "source": [
    "### Importando Módulos\n",
    "\n",
    "A sintaxe para importar no Python parece direta no começo, mas existem algumas maneiras de fazê-lo, e cada uma resulta em diferenças sutis nas informações trazidas para o espaço para nome."
   ]
  },
  {
   "cell_type": "markdown",
   "metadata": {},
   "source": [
    "`from module import *`: Este método de importar um módulo, importa todos os nomes do módulo determinado diretamente em seu namespace atual. Este método permite o uso de uma função diretamente sem adicionar o nome do módulo como um prefixo. No entanto, é muito sujeito a erros, e perde-se a capacidade de dizer qual módulo foi realmente importado na função. Ex:"
   ]
  },
  {
   "cell_type": "code",
   "execution_count": 4,
   "metadata": {},
   "outputs": [],
   "source": [
    "from math import *"
   ]
  },
  {
   "cell_type": "code",
   "execution_count": 5,
   "metadata": {},
   "outputs": [
    {
     "name": "stdout",
     "output_type": "stream",
     "text": [
      "['In', 'Out', '_', '_3', '__', '___', '__builtin__', '__builtins__', '__doc__', '__loader__', '__name__', '__package__', '__spec__', '_dh', '_i', '_i1', '_i2', '_i3', '_i4', '_i5', '_ih', '_ii', '_iii', '_oh', 'acos', 'acosh', 'asin', 'asinh', 'atan', 'atan2', 'atanh', 'ceil', 'copysign', 'cos', 'cosh', 'degrees', 'e', 'erf', 'erfc', 'exit', 'exp', 'expm1', 'fabs', 'factorial', 'floor', 'fmod', 'frexp', 'fsum', 'gamma', 'gcd', 'get_ipython', 'hypot', 'inf', 'isclose', 'isfinite', 'isinf', 'isnan', 'ldexp', 'lgamma', 'log', 'log10', 'log1p', 'log2', 'modf', 'nan', 'pi', 'pow', 'quit', 'radians', 'remainder', 'sin', 'sinh', 'sqrt', 'tan', 'tanh', 'tau', 'trunc']\n"
     ]
    }
   ],
   "source": [
    "print(dir())"
   ]
  },
  {
   "cell_type": "code",
   "execution_count": 6,
   "metadata": {},
   "outputs": [
    {
     "data": {
      "text/plain": [
       "2.0969100130080562"
      ]
     },
     "execution_count": 6,
     "metadata": {},
     "output_type": "execute_result"
    }
   ],
   "source": [
    "log10(125)"
   ]
  },
  {
   "cell_type": "markdown",
   "metadata": {},
   "source": [
    "`from module import nameA, nameB`: se você sabe que você só vai usar um ou dois nomes de um módulo, você pode importá-los diretamente usando esse método. Desta forma, você pode escrever o código de maneira mais concisa, mantendo o mínimo de poluição do namespace. No entanto, tenha em mente que você ainda não pode usar qualquer outro nome do módulo escrevendo module.nameZ. Qualquer função que tem o mesmo nome em seu programa também irá substituir a definição desta função importada do módulo. Isto fará com que a função importada fique inutilizável. EX:"
   ]
  },
  {
   "cell_type": "code",
   "execution_count": 1,
   "metadata": {},
   "outputs": [],
   "source": [
    "from math import log2, log10"
   ]
  },
  {
   "cell_type": "code",
   "execution_count": 2,
   "metadata": {},
   "outputs": [
    {
     "name": "stdout",
     "output_type": "stream",
     "text": [
      "['In', 'Out', '_', '__', '___', '__builtin__', '__builtins__', '__doc__', '__loader__', '__name__', '__package__', '__spec__', '_dh', '_i', '_i1', '_i2', '_ih', '_ii', '_iii', '_oh', 'exit', 'get_ipython', 'log10', 'log2', 'quit']\n"
     ]
    }
   ],
   "source": [
    "print(dir())"
   ]
  },
  {
   "cell_type": "code",
   "execution_count": 3,
   "metadata": {},
   "outputs": [
    {
     "data": {
      "text/plain": [
       "2.0969100130080562"
      ]
     },
     "execution_count": 3,
     "metadata": {},
     "output_type": "execute_result"
    }
   ],
   "source": [
    "log10(125)"
   ]
  },
  {
   "cell_type": "markdown",
   "metadata": {},
   "source": [
    "`import module`: esta é a maneira mais segura e recomendada de importar um módulo. A única desvantagem é que você terá que prefixar o nome do módulo para todos os nomes que você vai usar no programa. No entanto, você será capaz de evitar a poluição do namespace e também definir funções cujos nomes coincidem com o nome das funções do módulo."
   ]
  },
  {
   "cell_type": "code",
   "execution_count": 7,
   "metadata": {},
   "outputs": [],
   "source": [
    "import math"
   ]
  },
  {
   "cell_type": "code",
   "execution_count": 8,
   "metadata": {},
   "outputs": [
    {
     "data": {
      "text/plain": [
       "2.0969100130080562"
      ]
     },
     "execution_count": 8,
     "metadata": {},
     "output_type": "execute_result"
    }
   ],
   "source": [
    "math.log10(125)"
   ]
  },
  {
   "cell_type": "markdown",
   "metadata": {},
   "source": [
    "ATENÇÃO: O Python permite importar todos os nomes de um módulo em abreviação, usando `from themodule import *`. É tentador usar esta forma em vez de prefixar esses nomes com o `themodule.` em todo o código, mas não faça isso! Essas importações podem causar colisões de nomes e dificultar a depuração de problemas, porque não é possível ver os nomes específicos sendo importados. Atenha-se a importações explícitas!"
   ]
  },
  {
   "cell_type": "markdown",
   "metadata": {},
   "source": [
    "### Funções\n",
    "\n",
    "Se você não estiver muito confortável com as funções, pense novamente na aula de matemática. Funções matemáticas são fórmulas, notadas (na sintaxe não-Python) como f (x) = x ^ 2 + 3, que mapeiam as entradas para as saídas. Introduzir x = 5 retorna f (5) = 5 ^ 2 + 3 = 25 + 3 = 28. No software, as funções desempenham o mesmo papel. \n",
    "\n",
    "Dado um conjunto de variáveis de entrada, uma função realiza algum cálculo ou transformação e retorna um resultado. Essa maneira de pensar sobre funções leva naturalmente à idéia de que funções em software geralmente devem ser curtas. Se uma função se torna muito longa ou faz muitas coisas, pode ser difícil caracterizar e, portanto, difícil nomear. f (x) = x ^ 2 + 3 é uma função quadrática de x, enquanto f (x) = x ^ 5 + 17x ^ 9 - 2x + 7 é mais difícil de nomear. \n",
    "\n",
    "No software, misturar muitos conceitos leva a uma massa nebulosa de código que não pode ser nomeada facilmente. Pequenas funções são uma das primeiras ferramentas a serem alcançadas ao tentar quebrar seu código. Uma função agrupa algumas linhas de código e fornece um nome claro para referência posterior. \n",
    "\n",
    "Criar uma função não apenas esclarece o que está acontecendo, mas também permite reutilizar o código conforme necessário. O próprio Python faz isso: se você usou open () para ler um arquivo ou len () para obter o comprimento de uma lista, utilizou a funcionalidade que o Python considerou importante o suficiente para quebrar e dar um nome. O processo de dividir um problema em pedaços pequenos e gerenciáveis é chamado de decomposição. \n",
    "\n",
    "Imagine um cogumelo quebrando uma árvore caída. Transforma a madeira, feita de moléculas complexas, em materiais mais fundamentais, como nitrogênio e dióxido de carbono. Estes são então reciclados de volta ao ecossistema. Seu código pode ser decomposto em funções que são recicladas novamente no ecossistema do seu software.\n",
    "\n",
    "O exemplo abaixo demonstra a decomposição de um programa, dividindo-o em subrotinas. "
   ]
  },
  {
   "cell_type": "code",
   "execution_count": 9,
   "metadata": {},
   "outputs": [
    {
     "name": "stdout",
     "output_type": "stream",
     "text": [
      "(1) Rock\n",
      "(2) Paper\n",
      "(3) Scissors\n"
     ]
    },
    {
     "name": "stdin",
     "output_type": "stream",
     "text": [
      "Enter the number of your choice:  1\n"
     ]
    },
    {
     "name": "stdout",
     "output_type": "stream",
     "text": [
      "You chose rock\n",
      "The computer chose paper\n",
      "Sorry, paper beat rock\n"
     ]
    }
   ],
   "source": [
    "# shoddy procedural code\n",
    "\n",
    "import random\n",
    "\n",
    "options = ['rock', 'paper', 'scissors']\n",
    "print('(1) Rock\\n(2) Paper\\n(3) Scissors')\n",
    "human_choice = options[int(input('Enter the number of your choice: ')) - 1]\n",
    "print(f'You chose {human_choice}')\n",
    "computer_choice = random.choice(options)\n",
    "print(f'The computer chose {computer_choice}')\n",
    "if human_choice == 'rock':\n",
    "    if computer_choice == 'paper':\n",
    "        print('Sorry, paper beat rock')\n",
    "    elif computer_choice == 'scissors':\n",
    "        print('Yes, rock beat scissors!')\n",
    "    else:\n",
    "        print('Draw!')\n",
    "elif human_choice == 'paper':\n",
    "    if computer_choice == 'scissors':\n",
    "        print('Sorry, scissors beat paper')\n",
    "    elif computer_choice == 'rock':\n",
    "        print('Yes, paper beat rock!')\n",
    "    else:\n",
    "        print('Draw!')\n",
    "elif human_choice == 'scissors':\n",
    "    if computer_choice == 'rock':\n",
    "        print('Sorry, rock beat scissors')\n",
    "    elif computer_choice == 'paper':\n",
    "        print('Yes, scissors beat paper!')\n",
    "    else:\n",
    "        print('Draw!')"
   ]
  },
  {
   "cell_type": "code",
   "execution_count": null,
   "metadata": {},
   "outputs": [],
   "source": [
    "# Code with extracted functions\n",
    "import random\n",
    "\n",
    "OPTIONS = ['rock', 'paper', 'scissors']\n",
    "\n",
    "\n",
    "def get_computer_choice():\n",
    "    return random.choice(OPTIONS)\n",
    "\n",
    "\n",
    "def get_human_choice():\n",
    "    choice_number = int(input('Enter the number of your choice: '))\n",
    "    return OPTIONS[choice_number - 1]\n",
    "\n",
    "\n",
    "def print_options():\n",
    "    print('\\n'.join(f'({i}) {option.title()}' for i, option in enumerate(OPTIONS)))\n",
    "\n",
    "\n",
    "def print_choices(human_choice, computer_choice):\n",
    "    print(f'You chose {human_choice}')\n",
    "    print(f'The computer chose {computer_choice}')\n",
    "\n",
    "\n",
    "def print_win_lose(human_choice, computer_choice, human_beats, human_loses_to):\n",
    "    if computer_choice == human_loses_to:\n",
    "        print(f'Sorry, {computer_choice} beats {human_choice}')\n",
    "    elif computer_choice == human_beats:\n",
    "        print(f'Yes, {human_choice} beats {computer_choice}!')\n",
    "\n",
    "\n",
    "def print_result(human_choice, computer_choice):\n",
    "    if human_choice == computer_choice:\n",
    "        print('Draw!')\n",
    "\n",
    "    if human_choice == 'rock':\n",
    "        print_win_lose('rock', computer_choice, 'scissors', 'paper')\n",
    "    elif human_choice == 'paper':\n",
    "        print_win_lose('paper', computer_choice, 'rock', 'scissors')\n",
    "    elif human_choice == 'scissors':\n",
    "        print_win_lose('scissors', computer_choice, 'paper', 'rock')\n",
    "\n",
    "\n",
    "print_options()\n",
    "human_choice = get_human_choice()\n",
    "computer_choice = get_computer_choice()\n",
    "print_choices(human_choice, computer_choice)\n",
    "print_result(human_choice, computer_choice)\n",
    "\n",
    "\n",
    "# Code with extracted functions reprise\n",
    "import random\n",
    "\n",
    "OPTIONS = ['rock', 'paper', 'scissors']\n",
    "\n",
    "\n",
    "def get_computer_choice():  # <1>\n",
    "    return random.choice(OPTIONS)\n",
    "\n",
    "\n",
    "def get_human_choice():\n",
    "    choice_number = int(input('Enter the number of your choice: '))\n",
    "    return OPTIONS[choice_number - 1]\n",
    "\n",
    "\n",
    "def print_options():\n",
    "    print('\\n'.join(f'({i}) {option.title()}' for i, option in enumerate(OPTIONS)))\n",
    "\n",
    "\n",
    "def print_choices(human_choice, computer_choice):  # <2>\n",
    "    print(f'You chose {human_choice}')\n",
    "    print(f'The computer chose {computer_choice}')\n",
    "\n",
    "\n",
    "def print_win_lose(human_choice, computer_choice, human_beats, human_loses_to):\n",
    "    if computer_choice == human_loses_to:\n",
    "        print(f'Sorry, {computer_choice} beats {human_choice}')\n",
    "    elif computer_choice == human_beats:\n",
    "        print(f'Yes, {human_choice} beats {computer_choice}!')\n",
    "\n",
    "\n",
    "def print_result(human_choice, computer_choice):  # <3>\n",
    "    if human_choice == computer_choice:\n",
    "        print('Draw!')\n",
    "\n",
    "    if human_choice == 'rock':\n",
    "        print_win_lose('rock', computer_choice, 'scissors', 'paper')\n",
    "    elif human_choice == 'paper':\n",
    "        print_win_lose('paper', computer_choice, 'rock', 'scissors')\n",
    "    elif human_choice == 'scissors':\n",
    "        print_win_lose('scissors', computer_choice, 'paper', 'rock')"
   ]
  },
  {
   "cell_type": "code",
   "execution_count": null,
   "metadata": {},
   "outputs": [],
   "source": []
  }
 ],
 "metadata": {
  "kernelspec": {
   "display_name": "Python 3",
   "language": "python",
   "name": "python3"
  },
  "language_info": {
   "codemirror_mode": {
    "name": "ipython",
    "version": 3
   },
   "file_extension": ".py",
   "mimetype": "text/x-python",
   "name": "python",
   "nbconvert_exporter": "python",
   "pygments_lexer": "ipython3",
   "version": "3.7.4"
  }
 },
 "nbformat": 4,
 "nbformat_minor": 4
}
